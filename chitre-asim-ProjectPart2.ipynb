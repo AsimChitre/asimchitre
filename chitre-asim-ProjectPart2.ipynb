{
 "cells": [
  {
   "cell_type": "code",
   "execution_count": 1,
   "id": "8f3640fe",
   "metadata": {},
   "outputs": [],
   "source": [
    "#importing Libraries\n",
    "\n",
    "import bqplot\n",
    "import numpy as np\n",
    "import ipywidgets\n",
    "import pandas as pd\n",
    "import datetime as dt\n",
    "import matplotlib.pyplot as plt"
   ]
  },
  {
   "cell_type": "code",
   "execution_count": 2,
   "id": "0327c2f0",
   "metadata": {},
   "outputs": [],
   "source": [
    "# reading the excel file \n",
    "df= pd.ExcelFile('https://cdn-assets.theforage.com/vinternship_modules/kpmg_data_analytics/KPMG_VI_New_raw_data_update_final.xlsx')"
   ]
  },
  {
   "cell_type": "code",
   "execution_count": 3,
   "id": "485d1be3",
   "metadata": {},
   "outputs": [],
   "source": [
    "# extracting the sheet which we will be using.\n",
    "\n",
    "transactions_df = pd.read_excel(df, sheet_name = 'Transactions', header=0, skiprows=[0] )"
   ]
  },
  {
   "cell_type": "code",
   "execution_count": 4,
   "id": "94bdcdeb",
   "metadata": {},
   "outputs": [],
   "source": [
    "# Setting transaction id as our index\n",
    "transactions_df.set_index('transaction_id', inplace = True)"
   ]
  },
  {
   "cell_type": "code",
   "execution_count": 5,
   "id": "5de6b2eb",
   "metadata": {},
   "outputs": [
    {
     "data": {
      "text/html": [
       "<div>\n",
       "<style scoped>\n",
       "    .dataframe tbody tr th:only-of-type {\n",
       "        vertical-align: middle;\n",
       "    }\n",
       "\n",
       "    .dataframe tbody tr th {\n",
       "        vertical-align: top;\n",
       "    }\n",
       "\n",
       "    .dataframe thead th {\n",
       "        text-align: right;\n",
       "    }\n",
       "</style>\n",
       "<table border=\"1\" class=\"dataframe\">\n",
       "  <thead>\n",
       "    <tr style=\"text-align: right;\">\n",
       "      <th></th>\n",
       "      <th>product_id</th>\n",
       "      <th>customer_id</th>\n",
       "      <th>transaction_date</th>\n",
       "      <th>online_order</th>\n",
       "      <th>order_status</th>\n",
       "      <th>brand</th>\n",
       "      <th>product_line</th>\n",
       "      <th>product_class</th>\n",
       "      <th>product_size</th>\n",
       "      <th>list_price</th>\n",
       "      <th>standard_cost</th>\n",
       "      <th>product_first_sold_date</th>\n",
       "    </tr>\n",
       "    <tr>\n",
       "      <th>transaction_id</th>\n",
       "      <th></th>\n",
       "      <th></th>\n",
       "      <th></th>\n",
       "      <th></th>\n",
       "      <th></th>\n",
       "      <th></th>\n",
       "      <th></th>\n",
       "      <th></th>\n",
       "      <th></th>\n",
       "      <th></th>\n",
       "      <th></th>\n",
       "      <th></th>\n",
       "    </tr>\n",
       "  </thead>\n",
       "  <tbody>\n",
       "    <tr>\n",
       "      <th>1</th>\n",
       "      <td>2</td>\n",
       "      <td>2950</td>\n",
       "      <td>2017-02-25</td>\n",
       "      <td>0.0</td>\n",
       "      <td>Approved</td>\n",
       "      <td>Solex</td>\n",
       "      <td>Standard</td>\n",
       "      <td>medium</td>\n",
       "      <td>medium</td>\n",
       "      <td>71.49</td>\n",
       "      <td>53.62</td>\n",
       "      <td>41245.0</td>\n",
       "    </tr>\n",
       "    <tr>\n",
       "      <th>2</th>\n",
       "      <td>3</td>\n",
       "      <td>3120</td>\n",
       "      <td>2017-05-21</td>\n",
       "      <td>1.0</td>\n",
       "      <td>Approved</td>\n",
       "      <td>Trek Bicycles</td>\n",
       "      <td>Standard</td>\n",
       "      <td>medium</td>\n",
       "      <td>large</td>\n",
       "      <td>2091.47</td>\n",
       "      <td>388.92</td>\n",
       "      <td>41701.0</td>\n",
       "    </tr>\n",
       "    <tr>\n",
       "      <th>3</th>\n",
       "      <td>37</td>\n",
       "      <td>402</td>\n",
       "      <td>2017-10-16</td>\n",
       "      <td>0.0</td>\n",
       "      <td>Approved</td>\n",
       "      <td>OHM Cycles</td>\n",
       "      <td>Standard</td>\n",
       "      <td>low</td>\n",
       "      <td>medium</td>\n",
       "      <td>1793.43</td>\n",
       "      <td>248.82</td>\n",
       "      <td>36361.0</td>\n",
       "    </tr>\n",
       "    <tr>\n",
       "      <th>4</th>\n",
       "      <td>88</td>\n",
       "      <td>3135</td>\n",
       "      <td>2017-08-31</td>\n",
       "      <td>0.0</td>\n",
       "      <td>Approved</td>\n",
       "      <td>Norco Bicycles</td>\n",
       "      <td>Standard</td>\n",
       "      <td>medium</td>\n",
       "      <td>medium</td>\n",
       "      <td>1198.46</td>\n",
       "      <td>381.10</td>\n",
       "      <td>36145.0</td>\n",
       "    </tr>\n",
       "    <tr>\n",
       "      <th>5</th>\n",
       "      <td>78</td>\n",
       "      <td>787</td>\n",
       "      <td>2017-10-01</td>\n",
       "      <td>1.0</td>\n",
       "      <td>Approved</td>\n",
       "      <td>Giant Bicycles</td>\n",
       "      <td>Standard</td>\n",
       "      <td>medium</td>\n",
       "      <td>large</td>\n",
       "      <td>1765.30</td>\n",
       "      <td>709.48</td>\n",
       "      <td>42226.0</td>\n",
       "    </tr>\n",
       "    <tr>\n",
       "      <th>...</th>\n",
       "      <td>...</td>\n",
       "      <td>...</td>\n",
       "      <td>...</td>\n",
       "      <td>...</td>\n",
       "      <td>...</td>\n",
       "      <td>...</td>\n",
       "      <td>...</td>\n",
       "      <td>...</td>\n",
       "      <td>...</td>\n",
       "      <td>...</td>\n",
       "      <td>...</td>\n",
       "      <td>...</td>\n",
       "    </tr>\n",
       "    <tr>\n",
       "      <th>19996</th>\n",
       "      <td>51</td>\n",
       "      <td>1018</td>\n",
       "      <td>2017-06-24</td>\n",
       "      <td>1.0</td>\n",
       "      <td>Approved</td>\n",
       "      <td>OHM Cycles</td>\n",
       "      <td>Standard</td>\n",
       "      <td>high</td>\n",
       "      <td>medium</td>\n",
       "      <td>2005.66</td>\n",
       "      <td>1203.40</td>\n",
       "      <td>37823.0</td>\n",
       "    </tr>\n",
       "    <tr>\n",
       "      <th>19997</th>\n",
       "      <td>41</td>\n",
       "      <td>127</td>\n",
       "      <td>2017-11-09</td>\n",
       "      <td>1.0</td>\n",
       "      <td>Approved</td>\n",
       "      <td>Solex</td>\n",
       "      <td>Road</td>\n",
       "      <td>medium</td>\n",
       "      <td>medium</td>\n",
       "      <td>416.98</td>\n",
       "      <td>312.74</td>\n",
       "      <td>35560.0</td>\n",
       "    </tr>\n",
       "    <tr>\n",
       "      <th>19998</th>\n",
       "      <td>87</td>\n",
       "      <td>2284</td>\n",
       "      <td>2017-04-14</td>\n",
       "      <td>1.0</td>\n",
       "      <td>Approved</td>\n",
       "      <td>OHM Cycles</td>\n",
       "      <td>Standard</td>\n",
       "      <td>medium</td>\n",
       "      <td>medium</td>\n",
       "      <td>1636.90</td>\n",
       "      <td>44.71</td>\n",
       "      <td>40410.0</td>\n",
       "    </tr>\n",
       "    <tr>\n",
       "      <th>19999</th>\n",
       "      <td>6</td>\n",
       "      <td>2764</td>\n",
       "      <td>2017-07-03</td>\n",
       "      <td>0.0</td>\n",
       "      <td>Approved</td>\n",
       "      <td>OHM Cycles</td>\n",
       "      <td>Standard</td>\n",
       "      <td>high</td>\n",
       "      <td>medium</td>\n",
       "      <td>227.88</td>\n",
       "      <td>136.73</td>\n",
       "      <td>38216.0</td>\n",
       "    </tr>\n",
       "    <tr>\n",
       "      <th>20000</th>\n",
       "      <td>11</td>\n",
       "      <td>1144</td>\n",
       "      <td>2017-09-22</td>\n",
       "      <td>1.0</td>\n",
       "      <td>Approved</td>\n",
       "      <td>Trek Bicycles</td>\n",
       "      <td>Standard</td>\n",
       "      <td>medium</td>\n",
       "      <td>small</td>\n",
       "      <td>1775.81</td>\n",
       "      <td>1580.47</td>\n",
       "      <td>36334.0</td>\n",
       "    </tr>\n",
       "  </tbody>\n",
       "</table>\n",
       "<p>19445 rows × 12 columns</p>\n",
       "</div>"
      ],
      "text/plain": [
       "                product_id  customer_id transaction_date  online_order  \\\n",
       "transaction_id                                                           \n",
       "1                        2         2950       2017-02-25           0.0   \n",
       "2                        3         3120       2017-05-21           1.0   \n",
       "3                       37          402       2017-10-16           0.0   \n",
       "4                       88         3135       2017-08-31           0.0   \n",
       "5                       78          787       2017-10-01           1.0   \n",
       "...                    ...          ...              ...           ...   \n",
       "19996                   51         1018       2017-06-24           1.0   \n",
       "19997                   41          127       2017-11-09           1.0   \n",
       "19998                   87         2284       2017-04-14           1.0   \n",
       "19999                    6         2764       2017-07-03           0.0   \n",
       "20000                   11         1144       2017-09-22           1.0   \n",
       "\n",
       "               order_status           brand product_line product_class  \\\n",
       "transaction_id                                                           \n",
       "1                  Approved           Solex     Standard        medium   \n",
       "2                  Approved   Trek Bicycles     Standard        medium   \n",
       "3                  Approved      OHM Cycles     Standard           low   \n",
       "4                  Approved  Norco Bicycles     Standard        medium   \n",
       "5                  Approved  Giant Bicycles     Standard        medium   \n",
       "...                     ...             ...          ...           ...   \n",
       "19996              Approved      OHM Cycles     Standard          high   \n",
       "19997              Approved           Solex         Road        medium   \n",
       "19998              Approved      OHM Cycles     Standard        medium   \n",
       "19999              Approved      OHM Cycles     Standard          high   \n",
       "20000              Approved   Trek Bicycles     Standard        medium   \n",
       "\n",
       "               product_size  list_price  standard_cost  \\\n",
       "transaction_id                                           \n",
       "1                    medium       71.49          53.62   \n",
       "2                     large     2091.47         388.92   \n",
       "3                    medium     1793.43         248.82   \n",
       "4                    medium     1198.46         381.10   \n",
       "5                     large     1765.30         709.48   \n",
       "...                     ...         ...            ...   \n",
       "19996                medium     2005.66        1203.40   \n",
       "19997                medium      416.98         312.74   \n",
       "19998                medium     1636.90          44.71   \n",
       "19999                medium      227.88         136.73   \n",
       "20000                 small     1775.81        1580.47   \n",
       "\n",
       "                product_first_sold_date  \n",
       "transaction_id                           \n",
       "1                               41245.0  \n",
       "2                               41701.0  \n",
       "3                               36361.0  \n",
       "4                               36145.0  \n",
       "5                               42226.0  \n",
       "...                                 ...  \n",
       "19996                           37823.0  \n",
       "19997                           35560.0  \n",
       "19998                           40410.0  \n",
       "19999                           38216.0  \n",
       "20000                           36334.0  \n",
       "\n",
       "[19445 rows x 12 columns]"
      ]
     },
     "execution_count": 5,
     "metadata": {},
     "output_type": "execute_result"
    }
   ],
   "source": [
    "transactions_df.dropna()"
   ]
  },
  {
   "cell_type": "code",
   "execution_count": 6,
   "id": "cd649915",
   "metadata": {},
   "outputs": [
    {
     "data": {
      "text/plain": [
       "product_id                          int64\n",
       "customer_id                         int64\n",
       "transaction_date           datetime64[ns]\n",
       "online_order                      float64\n",
       "order_status                       object\n",
       "brand                              object\n",
       "product_line                       object\n",
       "product_class                      object\n",
       "product_size                       object\n",
       "list_price                        float64\n",
       "standard_cost                     float64\n",
       "product_first_sold_date           float64\n",
       "dtype: object"
      ]
     },
     "execution_count": 6,
     "metadata": {},
     "output_type": "execute_result"
    }
   ],
   "source": [
    "transactions_df.dtypes"
   ]
  },
  {
   "cell_type": "markdown",
   "id": "61466358",
   "metadata": {},
   "source": [
    "### Plotting simple graphs"
   ]
  },
  {
   "cell_type": "code",
   "execution_count": 7,
   "id": "9ecfc04b",
   "metadata": {},
   "outputs": [
    {
     "data": {
      "text/plain": [
       "Standard    14176\n",
       "Road         3970\n",
       "Touring      1234\n",
       "Mountain      423\n",
       "Name: product_line, dtype: int64"
      ]
     },
     "execution_count": 7,
     "metadata": {},
     "output_type": "execute_result"
    }
   ],
   "source": [
    "transactions_df['product_line'].value_counts()"
   ]
  },
  {
   "cell_type": "code",
   "execution_count": 8,
   "id": "d7b7b88c",
   "metadata": {},
   "outputs": [
    {
     "data": {
      "text/plain": [
       "<matplotlib.axes._subplots.AxesSubplot at 0x22fe8813f88>"
      ]
     },
     "execution_count": 8,
     "metadata": {},
     "output_type": "execute_result"
    },
    {
     "data": {
      "image/png": "[encoded data removed]",
      "text/plain": [
       "<Figure size 432x288 with 1 Axes>"
      ]
     },
     "metadata": {
      "needs_background": "light"
     },
     "output_type": "display_data"
    }
   ],
   "source": [
    "# Count of product lines \n",
    "\n",
    "transactions_df['product_line'].value_counts().plot(kind='bar')"
   ]
  },
  {
   "cell_type": "code",
   "execution_count": 9,
   "id": "99b86366",
   "metadata": {},
   "outputs": [
    {
     "data": {
      "text/plain": [
       "1.0    9829\n",
       "0.0    9811\n",
       "Name: online_order, dtype: int64"
      ]
     },
     "execution_count": 9,
     "metadata": {},
     "output_type": "execute_result"
    }
   ],
   "source": [
    "transactions_df['online_order'].value_counts()"
   ]
  },
  {
   "cell_type": "code",
   "execution_count": 10,
   "id": "c86327d5",
   "metadata": {},
   "outputs": [
    {
     "data": {
      "text/plain": [
       "195"
      ]
     },
     "execution_count": 10,
     "metadata": {},
     "output_type": "execute_result"
    }
   ],
   "source": [
    "len(transactions_df[(transactions_df['online_order']==0.0) & (transactions_df['product_line']=='Mountain')].value_counts())"
   ]
  },
  {
   "cell_type": "code",
   "execution_count": 11,
   "id": "68b539c6",
   "metadata": {},
   "outputs": [
    {
     "data": {
      "text/plain": [
       "<matplotlib.axes._subplots.AxesSubplot at 0x22fe87ce6c8>"
      ]
     },
     "execution_count": 11,
     "metadata": {},
     "output_type": "execute_result"
    },
    {
     "data": {
      "image/png": "[encoded data removed]",
      "text/plain": [
       "<Figure size 432x288 with 1 Axes>"
      ]
     },
     "metadata": {
      "needs_background": "light"
     },
     "output_type": "display_data"
    }
   ],
   "source": [
    "transactions_df['brand'].value_counts().plot(kind='bar')"
   ]
  },
  {
   "cell_type": "markdown",
   "id": "01545f28",
   "metadata": {},
   "source": [
    "## First Barplot"
   ]
  },
  {
   "cell_type": "code",
   "execution_count": 12,
   "id": "41ec9883",
   "metadata": {},
   "outputs": [],
   "source": [
    "# Part 1\n",
    "\n",
    "x_scale = bqplot.OrdinalScale()\n",
    "y_scale = bqplot.LinearScale()"
   ]
  },
  {
   "cell_type": "code",
   "execution_count": 13,
   "id": "825edd1d",
   "metadata": {},
   "outputs": [],
   "source": [
    "# 3. Axis\n",
    "x_axis = bqplot.Axis(label='Product Line', scale=x_scale)\n",
    "y_axis = bqplot.Axis(label='Count', scale=y_scale, orientation='vertical')"
   ]
  },
  {
   "cell_type": "code",
   "execution_count": 14,
   "id": "3f4b4eb8",
   "metadata": {},
   "outputs": [],
   "source": [
    "bar1 = bqplot.Bars(x=transactions_df['product_line'].astype(str).unique(), \n",
    "                   y=transactions_df['product_line'].value_counts(),scales = {'x':x_scale , \n",
    "                                                                              'y':y_scale}, \n",
    "                                                                               interactions={'click':'select'},\n",
    "                                                                               unselected_style={'fill':'grey'})"
   ]
  },
  {
   "cell_type": "code",
   "execution_count": 15,
   "id": "b09569c7",
   "metadata": {},
   "outputs": [],
   "source": [
    "figure_bar1 = bqplot.Figure(marks = [bar1], axes = [x_axis,y_axis])"
   ]
  },
  {
   "cell_type": "code",
   "execution_count": 16,
   "id": "9d9f25f5",
   "metadata": {},
   "outputs": [
    {
     "data": {
      "application/vnd.jupyter.widget-view+json": {
       "model_id": "425fefb9b5424c71ae30f26516afa2ac",
       "version_major": 2,
       "version_minor": 0
      },
      "text/plain": [
       "Figure(axes=[Axis(label='Product Line', scale=OrdinalScale()), Axis(label='Count', orientation='vertical', sca…"
      ]
     },
     "metadata": {},
     "output_type": "display_data"
    }
   ],
   "source": [
    "figure_bar1"
   ]
  },
  {
   "cell_type": "code",
   "execution_count": 17,
   "id": "075a85cc",
   "metadata": {},
   "outputs": [],
   "source": [
    "# interactivity element\n",
    "\n",
    "def on_selected(change):\n",
    "    print(change)"
   ]
  },
  {
   "cell_type": "code",
   "execution_count": 18,
   "id": "535d1aed",
   "metadata": {},
   "outputs": [
    {
     "data": {
      "application/vnd.jupyter.widget-view+json": {
       "model_id": "8f17843ec191471e9ebde4e0499aad3f",
       "version_major": 2,
       "version_minor": 0
      },
      "text/plain": [
       "Figure(axes=[Axis(label='Product Line', scale=OrdinalScale()), Axis(label='Count', orientation='vertical', sca…"
      ]
     },
     "metadata": {},
     "output_type": "display_data"
    }
   ],
   "source": [
    "# 2. SCALE\n",
    "x_scale = bqplot.OrdinalScale()\n",
    "y_scale = bqplot.LinearScale()\n",
    "\n",
    "# 3. AXIS\n",
    "x_axis = bqplot.Axis(label='Product Line', scale=x_scale)\n",
    "y_axis = bqplot.Axis(label='Count', scale=y_scale, orientation='vertical')\n",
    "\n",
    "# 4. MARKS\n",
    "bar1 = bqplot.Bars(x=transactions_df['product_line'].astype(str).unique(), \n",
    "                   y=transactions_df['product_line'].value_counts(),scales = {'x':x_scale , \n",
    "                                                                              'y':y_scale}, \n",
    "                                                                               interactions={'click':'select'},\n",
    "                                                                               unselected_style={'fill':'grey'})\n",
    "\n",
    "# 5. INTERACTIVITY\n",
    "bar1.observe(on_selected, 'selected')\n",
    "\n",
    "# FINAL FIGURE\n",
    "figure_bar1 = bqplot.Figure(marks = [bar1], axes = [x_axis,y_axis])\n",
    "figure_bar1"
   ]
  },
  {
   "cell_type": "markdown",
   "id": "eb357446",
   "metadata": {},
   "source": [
    "We can see that when we select a column, the other columns become grey in color and the one which is selected is in blue color."
   ]
  },
  {
   "cell_type": "code",
   "execution_count": 19,
   "id": "7e75b87e",
   "metadata": {},
   "outputs": [],
   "source": [
    "def on_selected(change):\n",
    "    print(change['owner'].selected)"
   ]
  },
  {
   "cell_type": "code",
   "execution_count": 20,
   "id": "a3c21fe5",
   "metadata": {
    "scrolled": true
   },
   "outputs": [
    {
     "data": {
      "application/vnd.jupyter.widget-view+json": {
       "model_id": "7aaf5f04214a42ebb3c412d2972deb49",
       "version_major": 2,
       "version_minor": 0
      },
      "text/plain": [
       "Figure(axes=[Axis(label='Product Line', scale=OrdinalScale()), Axis(label='Count', orientation='vertical', sca…"
      ]
     },
     "metadata": {},
     "output_type": "display_data"
    }
   ],
   "source": [
    "# 2. SCALE\n",
    "x_scale = bqplot.OrdinalScale()\n",
    "y_scale = bqplot.LinearScale()\n",
    "\n",
    "# 3. AXIS\n",
    "x_axis = bqplot.Axis(label='Product Line', scale=x_scale)\n",
    "y_axis = bqplot.Axis(label='Count', scale=y_scale, orientation='vertical')\n",
    "\n",
    "# 4. MARKS\n",
    "bar1 = bqplot.Bars(x=transactions_df['product_line'].astype(str).unique(), \n",
    "                   y=transactions_df['product_line'].value_counts(),scales = {'x':x_scale , \n",
    "                                                                              'y':y_scale}, \n",
    "                                                                               interactions={'click':'select'},\n",
    "                                                                               unselected_style={'fill':'grey'})\n",
    "\n",
    "# 5. INTERACTIVITY\n",
    "bar1.observe(on_selected, 'selected')\n",
    "\n",
    "# FINAL FIGURE\n",
    "figure_bar1 = bqplot.Figure(marks = [bar1], axes = [x_axis,y_axis])\n",
    "figure_bar1"
   ]
  },
  {
   "cell_type": "markdown",
   "id": "0f76c8bf",
   "metadata": {},
   "source": [
    "After selecting, in addition to changes in color, here we can see that the index is also printed at the bottom"
   ]
  },
  {
   "cell_type": "code",
   "execution_count": 21,
   "id": "febd4038",
   "metadata": {},
   "outputs": [],
   "source": [
    "# Using a label to show what column we selected.\n",
    "\n",
    "selectedLabel = ipywidgets.Label()\n",
    "#selectedLabel2 = ipywidgets.Label()"
   ]
  },
  {
   "cell_type": "code",
   "execution_count": 22,
   "id": "a8026177",
   "metadata": {},
   "outputs": [],
   "source": [
    "# Final interactivity element\n",
    "\n",
    "pl_map = ['Standard', 'Road', 'Mountain', 'Touring']\n",
    "def on_selected(change):\n",
    "    if change['owner'].selected == None:\n",
    "        v = 'None'\n",
    "    else:\n",
    "        v = pl_map[change['owner'].selected[0]]\n",
    "        \n",
    "    selectedLabel.value = 'Selected Product Line: ' + v\n",
    "    #selectedLabel2.value = bar1.y[change['owner'].selected].astype(str)"
   ]
  },
  {
   "cell_type": "code",
   "execution_count": 23,
   "id": "3777078c",
   "metadata": {},
   "outputs": [
    {
     "data": {
      "application/vnd.jupyter.widget-view+json": {
       "model_id": "5303e189c08543358579031ca6a84e89",
       "version_major": 2,
       "version_minor": 0
      },
      "text/plain": [
       "Figure(axes=[Axis(label='Product Line', scale=OrdinalScale()), Axis(label='Count', orientation='vertical', sca…"
      ]
     },
     "metadata": {},
     "output_type": "display_data"
    }
   ],
   "source": [
    "# 2. SCALE\n",
    "x_scale = bqplot.OrdinalScale()\n",
    "y_scale = bqplot.LinearScale()\n",
    "\n",
    "# 3. AXIS\n",
    "x_axis = bqplot.Axis(label='Product Line', scale=x_scale)\n",
    "y_axis = bqplot.Axis(label='Count', scale=y_scale, orientation='vertical')\n",
    "\n",
    "# 4. MARKS\n",
    "bar1 = bqplot.Bars(x=transactions_df['product_line'].astype(str).unique(), \n",
    "                   y=transactions_df['product_line'].value_counts(),scales = {'x':x_scale , \n",
    "                                                                              'y':y_scale}, \n",
    "                                                                               interactions={'click':'select'},\n",
    "                                                                               unselected_style={'fill':'grey'})\n",
    "\n",
    "# 5. INTERACTIVITY\n",
    "bar1.observe(on_selected, 'selected')\n",
    "\n",
    "# FINAL FIGURE\n",
    "figure_bar1 = bqplot.Figure(marks = [bar1], axes = [x_axis,y_axis])\n",
    "figure_bar1"
   ]
  },
  {
   "cell_type": "markdown",
   "id": "6a6aaaec",
   "metadata": {},
   "source": [
    "## Second Barplot"
   ]
  },
  {
   "cell_type": "code",
   "execution_count": 24,
   "id": "5e841b60",
   "metadata": {},
   "outputs": [
    {
     "data": {
      "application/vnd.jupyter.widget-view+json": {
       "model_id": "0eb54f58926a40bd9dbcdd913300faf7",
       "version_major": 2,
       "version_minor": 0
      },
      "text/plain": [
       "Figure(axes=[Axis(label='Online Order', scale=OrdinalScale()), Axis(label='Count', orientation='vertical', sca…"
      ]
     },
     "metadata": {},
     "output_type": "display_data"
    }
   ],
   "source": [
    "# 2. SCALES\n",
    "x_scale2 = bqplot.OrdinalScale()\n",
    "y_scale2 = bqplot.LinearScale()\n",
    "\n",
    "# 3. AXIS\n",
    "x_axis2 = bqplot.Axis(label='Online Order', scale=x_scale2)\n",
    "y_axis2 = bqplot.Axis(label='Count', scale=y_scale2, orientation='vertical')\n",
    "\n",
    "# 4. MARKS\n",
    "bar2 = bqplot.Bars(x=transactions_df['online_order'].astype(str).unique(), \n",
    "                   y=transactions_df['online_order'].value_counts(),scales = {'x':x_scale2 , 'y':y_scale2},\n",
    "                  colors = 'green')\n",
    "\n",
    "\n",
    "\n",
    "# FINAL FIGURE\n",
    "figure_bar2 = bqplot.Figure(marks = [bar2], axes = [x_axis2,y_axis2])\n",
    "figure_bar2"
   ]
  },
  {
   "cell_type": "markdown",
   "id": "32c61b8e",
   "metadata": {},
   "source": [
    "## Using ipywidgets on a different graph"
   ]
  },
  {
   "cell_type": "code",
   "execution_count": 25,
   "id": "dd30f600",
   "metadata": {},
   "outputs": [
    {
     "data": {
      "application/vnd.jupyter.widget-view+json": {
       "model_id": "e14ca374ce6d4a6d99c29552df14a69d",
       "version_major": 2,
       "version_minor": 0
      },
      "text/plain": [
       "Dropdown(description='x-axis', options=('product_id', 'customer_id', 'transaction_date', 'online_order', 'orde…"
      ]
     },
     "metadata": {},
     "output_type": "display_data"
    }
   ],
   "source": [
    "x_widget = ipywidgets.Dropdown(options=transactions_df.columns, description='x-axis')\n",
    "x_widget"
   ]
  },
  {
   "cell_type": "code",
   "execution_count": 26,
   "id": "d51f9e1a",
   "metadata": {},
   "outputs": [
    {
     "data": {
      "image/png": "[encoded data removed]",
      "text/plain": [
       "<Figure size 432x288 with 1 Axes>"
      ]
     },
     "metadata": {
      "needs_background": "light"
     },
     "output_type": "display_data"
    }
   ],
   "source": [
    "plt.plot(transactions_df.groupby(\"product_line\")[\"standard_cost\"].sum())\n",
    "plt.show()"
   ]
  },
  {
   "cell_type": "code",
   "execution_count": 27,
   "id": "47cf3b66",
   "metadata": {},
   "outputs": [
    {
     "data": {
      "application/vnd.jupyter.widget-view+json": {
       "model_id": "4c107f263ad0421eb0d3f81de1bc72a5",
       "version_major": 2,
       "version_minor": 0
      },
      "text/plain": [
       "interactive(children=(Dropdown(description='x-axis', options=('product_id', 'customer_id', 'transaction_date',…"
      ]
     },
     "metadata": {},
     "output_type": "display_data"
    }
   ],
   "source": [
    "@ipywidgets.interact(x=x_widget)\n",
    "def line_plot(x):\n",
    "    plt.plot(transactions_df.groupby(x)[\"standard_cost\"].sum())\n",
    "    plt.xlabel(x)\n",
    "    plt.ylabel('Sum of standard cost')\n",
    "    plt.show()"
   ]
  },
  {
   "cell_type": "code",
   "execution_count": 28,
   "id": "9e22d0e2",
   "metadata": {},
   "outputs": [
    {
     "data": {
      "text/plain": [
       "\"# 2. SCALES\\nx_scale_2 = bqplot.DateScale(min=dt.datetime(2017,1,1), max=dt.datetime(2017,12,30))\\ny_scale_2 = bqplot.LogScale()\\n\\n# 3. AXIS\\nx_axis_2 = bqplot.Axis(label='column', scale=x_scale_2)\\ny_axis_2 = bqplot.Axis(label='Standard Cost', scale=y_scale_2, orientation='vertical')\\n\\n# 4. MARKS\\nline = bqplot.Lines(x=x, y=y, scales = {'x':x_scale_2 , 'y':y_scale_2})\\n\\nfigure_line = bqplot.Figure(marks = [line], axes = [x_axis_2,y_axis_2], interaction = pz)\\n\\nfigure_line\""
      ]
     },
     "execution_count": 28,
     "metadata": {},
     "output_type": "execute_result"
    }
   ],
   "source": [
    "'''# 2. SCALES\n",
    "x_scale_2 = bqplot.DateScale(min=dt.datetime(2017,1,1), max=dt.datetime(2017,12,30))\n",
    "y_scale_2 = bqplot.LogScale()\n",
    "\n",
    "# 3. AXIS\n",
    "x_axis_2 = bqplot.Axis(label='column', scale=x_scale_2)\n",
    "y_axis_2 = bqplot.Axis(label='Standard Cost', scale=y_scale_2, orientation='vertical')\n",
    "\n",
    "# 4. MARKS\n",
    "line = bqplot.Lines(x=x, y=y, scales = {'x':x_scale_2 , 'y':y_scale_2})\n",
    "\n",
    "figure_line = bqplot.Figure(marks = [line], axes = [x_axis_2,y_axis_2], interaction = pz)\n",
    "\n",
    "figure_line'''"
   ]
  },
  {
   "cell_type": "markdown",
   "id": "4807c7cf",
   "metadata": {},
   "source": [
    "### Combining two barplots"
   ]
  },
  {
   "cell_type": "code",
   "execution_count": 29,
   "id": "e01fb02e",
   "metadata": {},
   "outputs": [],
   "source": [
    "# combine\n",
    "\n",
    "figures = ipywidgets.VBox([selectedLabel,figure_bar1, figure_bar2])"
   ]
  },
  {
   "cell_type": "code",
   "execution_count": 30,
   "id": "0683801d",
   "metadata": {},
   "outputs": [
    {
     "data": {
      "application/vnd.jupyter.widget-view+json": {
       "model_id": "d624526e3e83470cb8cd59868dc24275",
       "version_major": 2,
       "version_minor": 0
      },
      "text/plain": [
       "VBox(children=(VBox(children=(Label(value=''), Figure(axes=[Axis(label='Product Line', scale=OrdinalScale()), …"
      ]
     },
     "metadata": {},
     "output_type": "display_data"
    }
   ],
   "source": [
    "myDashboard = ipywidgets.VBox([figures])\n",
    "figure_bar1.layout.min_width='600px'\n",
    "figure_bar2.layout.min_height='10px'\n",
    "\n",
    "myDashboard"
   ]
  },
  {
   "cell_type": "markdown",
   "id": "539d88d2",
   "metadata": {},
   "source": [
    "The dashboard has two bar charts. The top bar chart represents the count of products that fall under standard, road, mountain, and touring product line. The second bar chart is the count of orders that are from a specific product line that were either placed online or offline. We tried our best to link both the bar charts but were unable to do so. Adding to this we also tried to create a line chart but we failed to gather resources that would guide us to integrate ipywidget into a bqplot framework. "
   ]
  },
  {
   "cell_type": "markdown",
   "id": "33cff720",
   "metadata": {},
   "source": [
    "https://www.kaggle.com/datasets/joonim/scraped-product-data-specialized-bicycles\n",
    "\n",
    "The above dataset is of the scrap cycle parts, their location, and their values which I feel are very relevant to the cycle parts dataset. This dataset can be used to calculate the ratio of availability of scrap parts to the new parts in the final data storytelling."
   ]
  },
  {
   "cell_type": "markdown",
   "id": "d7bcbb25",
   "metadata": {},
   "source": [
    "From this assignment, I learned the following concepts:\n",
    "- Data Cleaning using pandas \n",
    "- Creating simple graphs using matplotlib\n",
    "- Using bqplot \n",
    "- Creating interactive widgets using ipywidgets \n",
    "- Connecting ipywidgets to bqplot\n",
    "\n",
    "The things which I learned from group member:\n",
    "- Debugging the code, which was very time consuming\n",
    "- Exploring more about bqplot"
   ]
  },
  {
   "cell_type": "markdown",
   "id": "05946442",
   "metadata": {},
   "source": [
    "What we are planning to build is a dashboard consisting of two bar charts and a line chart that show various aspects of the dataset with a linked view. The two bar charts will be very similar to the ones above, that will have the product line and counts on one bar chart, and whether the sale was online or offline on the basis of selected product line.\n",
    "\n",
    "To add to this, a third visualization will be a line chart that will have the sum of sales amount as per the product line. This dashboard along with the said elements will show the most important facts about the overall operations of the store."
   ]
  }
 ],
 "metadata": {
  "kernelspec": {
   "display_name": "Python 3 (ipykernel)",
   "language": "python",
   "name": "python3"
  },
  "language_info": {
   "codemirror_mode": {
    "name": "ipython",
    "version": 3
   },
   "file_extension": ".py",
   "mimetype": "text/x-python",
   "name": "python",
   "nbconvert_exporter": "python",
   "pygments_lexer": "ipython3",
   "version": "3.7.12"
  }
 },
 "nbformat": 4,
 "nbformat_minor": 5
}
